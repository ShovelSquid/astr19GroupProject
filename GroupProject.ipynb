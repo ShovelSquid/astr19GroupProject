{
 "cells": [
  {
   "cell_type": "markdown",
   "id": "abc18c25-3f19-435f-961d-a1827cd92c05",
   "metadata": {},
   "source": [
    "# Define an oscillatory function in Python to describe the intra- and inter-day variations in the tide.\n",
    "\n",
    "Using the scipy library, fit the oscillatory function to the data assuming the root mean squared experimental error on the height of the tide is 0.25 ft. Document these steps in the Jupyter notebook, and graph both the model and the data on the same plot. Label the data, provide sufficient labeling of the axes to provide clarity, and have the notebook save the figure to a PDF."
   ]
  },
  {
   "cell_type": "code",
   "execution_count": null,
   "id": "539f6360-8a8f-4a9e-aa61-2f52358652e7",
   "metadata": {},
   "outputs": [],
   "source": [
    "import matplotlib.pyplot as plt\n",
    "import numpy as np\n",
    "from mpl_toolkits.mplot3d import axes3d\n",
    "import scipy as sp\n",
    "%matplotlib inline"
   ]
  },
  {
   "cell_type": "code",
   "execution_count": null,
   "id": "a3c13794-6352-4550-90c4-80a7f8fa8062",
   "metadata": {},
   "outputs": [],
   "source": [
    "#This function attempts to model the tides as a composite of 3 simple cos() functions, with terms for frequency & phaseshift for each\n",
    "#The default values produce a relatively good approximation of the given data's overall shape\n",
    "def oscilloscope(time, amplitude=3, daily=1/120, day_shift=0, diurnal=1/4, diurnal_shift=0, semidiurnal=1/120, semi_shift=np.pi/2, avg_height=2.4783):\n",
    "    dailycycle = np.cos(time*daily+day_shift)\n",
    "    diurnalcycle = np.cos(time*diurnal+diurnal_shift)\n",
    "    semicycle = np.cos(time*semidiurnal+semi_shift)\n",
    "    return(amplitude*dailycycle*(diurnalcycle+semicycle))+avg_height\n"
   ]
  },
  {
   "cell_type": "code",
   "execution_count": null,
   "id": "b6fafb09-2a78-466a-a1b0-c9b28ad65a28",
   "metadata": {},
   "outputs": [],
   "source": [
    "from astropy.io import ascii #ascii plain text i/o\n",
    "given_data = ascii.read('ASTR19_F23_group_project_data.txt') #read the data in a new table\n",
    "\n",
    "#Here, I take the astropy ascii function and use it to put the time and tide data into two 1-D arrays\n",
    "given_time = [] #given_time is in hours\n",
    "given_tide = [] #given_tide is in feet\n",
    "for n in given_data:\n",
    "    hoursmin = (n[1]).split(\":\") #This and the next few lines seperate the hours and the minutes\n",
    "    hours = float(hoursmin[0])\n",
    "    min = float(hoursmin[1])\n",
    "    day = float(n[0])-1\n",
    "    given_time = given_time+[(day*24)+hours+(min/60)] #this line takes the day and converts it to hours since t=0, before combining it with the time of day\n",
    "    given_tide = given_tide+[float(n[2])]"
   ]
  },
  {
   "cell_type": "code",
   "execution_count": null,
   "id": "e8001a44-a01d-41f5-a43f-314a15dcbfd1",
   "metadata": {},
   "outputs": [],
   "source": [
    "#Generating a time array, then calling the oscilloscope function to get a tide model using the default values\n",
    "#Convieniently, total time ellapsed of the actual data is pretty close to 1000 hours\n",
    "timesamples = np.linspace(1, 1000, 20000)\n",
    "tidesamples = oscilloscope(timesamples)\n",
    "\n",
    "#Plotting that, plus the actual data, and labeling everything\n",
    "plt.plot(timesamples, tidesamples, label=('Naive Model'))\n",
    "plt.plot(given_time, given_tide, label='Actual')\n",
    "plt.xlabel('Time (in hours)')\n",
    "plt.ylabel('Tide height (in feet)')\n",
    "plt.legend()\n",
    "plt.savefig('Naive_Model.pdf', bbox_inches = \"tight\", pad_inches = 0, dpi=400)"
   ]
  },
  {
   "cell_type": "code",
   "execution_count": null,
   "id": "2291d18b-cbe7-42d4-9928-97bac9e83941",
   "metadata": {},
   "outputs": [],
   "source": [
    "#Getting better optimized parameters for oscilloscope()\n",
    "sp.optimize.curve_fit(oscilloscope, given_time, given_tide, [3, 1/120, 0, 1/4, 0, 1/120, np.pi/2, 2.4783], 0.25)"
   ]
  },
  {
   "cell_type": "code",
   "execution_count": null,
   "id": "03b8b15e-38bd-4189-9d72-bbb85fa25028",
   "metadata": {},
   "outputs": [],
   "source": [
    "#Calling oscillscope() with those optimized parameters over a timescale\n",
    "opt_par = [ 3.60120674,  0.00895659, -0.23109874,  0.25353642, -1.43068785, 0.0083018 ,  1.45622578,  2.70629831]\n",
    "optimized_model = oscilloscope(timesamples, opt_par[0], opt_par[1], opt_par[2], opt_par[3], opt_par[4], opt_par[5], opt_par[6], opt_par[7])\n",
    "\n",
    "#Plotting that, plus the actual data, plus labels\n",
    "plt.plot(timesamples, optimized_model, label=('Optimized Model'))\n",
    "plt.plot(given_time, given_tide, label='Actual')\n",
    "plt.xlabel('Time (in hours)')\n",
    "plt.ylabel('Tide height (in feet)')\n",
    "plt.legend()\n",
    "plt.savefig('Optimized_Model.pdf', bbox_inches = \"tight\", pad_inches = 0, dpi=400)"
   ]
  },
  {
   "cell_type": "code",
   "execution_count": null,
   "id": "dbc905e8-8601-49d4-91ec-dbc2dc9972cf",
   "metadata": {},
   "outputs": [],
   "source": []
  }
 ],
 "metadata": {
  "kernelspec": {
   "display_name": "Python 3 (ipykernel)",
   "language": "python",
   "name": "python3"
  },
  "language_info": {
   "codemirror_mode": {
    "name": "ipython",
    "version": 3
   },
   "file_extension": ".py",
   "mimetype": "text/x-python",
   "name": "python",
   "nbconvert_exporter": "python",
   "pygments_lexer": "ipython3",
   "version": "3.12.1"
  }
 },
 "nbformat": 4,
 "nbformat_minor": 5
}
