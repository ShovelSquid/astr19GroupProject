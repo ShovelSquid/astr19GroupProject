{
 "cells": [
  {
   "cell_type": "markdown",
   "id": "8b7d080c-2f65-4f81-8e12-90203319a97c",
   "metadata": {},
   "source": [
    "**Download this data setLinks to an external site. that lists some tidal measurements Santa Cruz in January and February 2022. In your Jupyter notebook, define an oscillatory function in Python to describe the intra- and inter-day variations in the tide. By Jerry Cheng**"
   ]
  },
  {
   "cell_type": "code",
   "execution_count": 4,
   "id": "37ef5708-4069-4454-9363-bbeae3a6d16e",
   "metadata": {},
   "outputs": [],
   "source": [
    "import numpy as np"
   ]
  },
  {
   "cell_type": "code",
   "execution_count": 5,
   "id": "7113ddaa-d130-426c-b73b-2a0a9854291f",
   "metadata": {},
   "outputs": [],
   "source": [
    "def oscilloscope(time, amplitude=3, daily=1/120, day_shift=0, diurnal=1/4, diurnal_shift=0, semidiurnal=1/120, semi_shift=np.pi/2, avg_height=2.4783):\n",
    "    \"\"\"\n",
    "    Defines an oscillatory function to model the tide heights as a composite of cosine functions.\n",
    "    \n",
    "    This function combines daily, diurnal, and semidiurnal cycles to model the complex nature of tidal movements.\n",
    "    \n",
    "    Parameters:\n",
    "    - time: Time in hours since the start of the data recording.\n",
    "    - amplitude: Scaling factor for the overall tide height.\n",
    "    - daily: Frequency of the daily tide cycle.\n",
    "    - day_shift: Phase shift for the daily cycle, adjusting the peak tide times.\n",
    "    - diurnal: Frequency of the diurnal (approx. 12-hour) tide cycle.\n",
    "    - diurnal_shift: Phase shift for the diurnal cycle.\n",
    "    - semidiurnal: Frequency of the semidiurnal (approx. 24-hour) tide cycle.\n",
    "    - semi_shift: Phase shift for the semidiurnal cycle, affects the symmetry of the tide heights.\n",
    "    - avg_height: Average tide height around which the tide oscillates.\n",
    "    \n",
    "    Returns:\n",
    "    - Calculated tide height based on the composite model.\n",
    "    \"\"\"\n",
    "    # Calculate each cycle's contribution to the tide height\n",
    "    dailycycle = np.cos(time * daily + day_shift)  # Daily cycle component\n",
    "    diurnalcycle = np.cos(time * diurnal + diurnal_shift)  # Diurnal cycle component\n",
    "    semicycle = np.cos(time * semidiurnal + semi_shift)  # Semidiurnal cycle component\n",
    "    \n",
    "    # Combine the cycles and scale by amplitude, then offset by average height\n",
    "    return amplitude * dailycycle * (diurnalcycle + semicycle) + avg_height\n",
    "\n",
    "# I contact with one of my groupmate(Linus Bluhm), make sure function can be used in data fitting for Part 2."
   ]
  },
  {
   "cell_type": "code",
   "execution_count": null,
   "id": "20c3ac3b-b0f9-4516-9b7d-7ec146b73845",
   "metadata": {},
   "outputs": [],
   "source": []
  }
 ],
 "metadata": {
  "kernelspec": {
   "display_name": "Python 3 (ipykernel)",
   "language": "python",
   "name": "python3"
  },
  "language_info": {
   "codemirror_mode": {
    "name": "ipython",
    "version": 3
   },
   "file_extension": ".py",
   "mimetype": "text/x-python",
   "name": "python",
   "nbconvert_exporter": "python",
   "pygments_lexer": "ipython3",
   "version": "3.12.1"
  }
 },
 "nbformat": 4,
 "nbformat_minor": 5
}
